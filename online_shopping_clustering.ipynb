{
 "cells": [
  {
   "cell_type": "code",
   "execution_count": 1,
   "metadata": {},
   "outputs": [],
   "source": [
    "# Importing the necessary pacakages\n",
    "import pandas as pd\n",
    "import numpy as np\n",
    "import time\n",
    "from sklearn.preprocessing import StandardScaler\n",
    "\n",
    "import matplotlib.pyplot as plt\n",
    "import seaborn as sns\n",
    "\n",
    "from sklearn.cluster import KMeans\n",
    "from sklearn.cluster import AgglomerativeClustering\n",
    "from sklearn.metrics import pairwise_distances\n",
    "# from kmodes.kprototypes import KPrototypes\n"
   ]
  },
  {
   "cell_type": "code",
   "execution_count": 2,
   "metadata": {},
   "outputs": [],
   "source": [
    "# Loading the dataset\n",
    "shopping_data = pd.read_csv(\"online_shoppers_intention.csv\")\n",
    "no_clusters = 4 # Number of clusters\n"
   ]
  },
  {
   "cell_type": "code",
   "execution_count": 3,
   "metadata": {},
   "outputs": [
    {
     "name": "stdout",
     "output_type": "stream",
     "text": [
      "<class 'pandas.core.frame.DataFrame'>\n",
      "RangeIndex: 12330 entries, 0 to 12329\n",
      "Data columns (total 18 columns):\n",
      "Administrative             12330 non-null int64\n",
      "Administrative_Duration    12330 non-null float64\n",
      "Informational              12330 non-null int64\n",
      "Informational_Duration     12330 non-null float64\n",
      "ProductRelated             12330 non-null int64\n",
      "ProductRelated_Duration    12330 non-null float64\n",
      "BounceRates                12330 non-null float64\n",
      "ExitRates                  12330 non-null float64\n",
      "PageValues                 12330 non-null float64\n",
      "SpecialDay                 12330 non-null float64\n",
      "Month                      12330 non-null object\n",
      "OperatingSystems           12330 non-null int64\n",
      "Browser                    12330 non-null int64\n",
      "Region                     12330 non-null int64\n",
      "TrafficType                12330 non-null int64\n",
      "VisitorType                12330 non-null object\n",
      "Weekend                    12330 non-null bool\n",
      "Revenue                    12330 non-null bool\n",
      "dtypes: bool(2), float64(7), int64(7), object(2)\n",
      "memory usage: 1.5+ MB\n"
     ]
    }
   ],
   "source": [
    "# Performing initial inspection on the dataset\n",
    "shopping_data.info()\n",
    "# shopping_data.describe()\n",
    "# shopping_data.columns()\n"
   ]
  },
  {
   "cell_type": "code",
   "execution_count": 4,
   "metadata": {},
   "outputs": [
    {
     "name": "stdout",
     "output_type": "stream",
     "text": [
      "['Feb' 'Mar' 'May' 'Oct' 'June' 'Jul' 'Aug' 'Nov' 'Sep' 'Dec']\n",
      "['Returning_Visitor' 'New_Visitor' 'Other']\n",
      "[False  True]\n",
      "[False  True]\n"
     ]
    }
   ],
   "source": [
    "# Operations on categorical features\n",
    "\n",
    "print(shopping_data.Month.unique())\n",
    "print(shopping_data.VisitorType.unique())\n",
    "print(shopping_data.Weekend.unique())\n",
    "print(shopping_data.Revenue.unique())\n",
    "\n",
    "# Mean encoding of the VisitorType field\n",
    "vt_me = shopping_data.groupby('VisitorType')['Revenue'].mean()\n",
    "vt_me = round(vt_me, 3)\n",
    "shopping_data['VisitorType'] = shopping_data['VisitorType'].map(vt_me)\n",
    "\n",
    "weekend_dict = {True: 1, False: 0}\n",
    "shopping_data['Weekend'] = shopping_data['Weekend'].map(weekend_dict)\n",
    "\n",
    "revenue_dict = {True: 1, False: 0}\n",
    "shopping_data['Revenue'] = shopping_data['Revenue'].map(revenue_dict)\n",
    "\n",
    "# Mean encoding of the Month field\n",
    "month_me = shopping_data.groupby('Month')['Revenue'].mean()\n",
    "month_me = round(month_me, 3)\n",
    "shopping_data['Month'] = shopping_data['Month'].map(month_me)\n"
   ]
  },
  {
   "cell_type": "code",
   "execution_count": 5,
   "metadata": {},
   "outputs": [],
   "source": [
    "# Not considering the 'Revenue' field for the clustering\n",
    "col_list = list(set(shopping_data.columns) - set(['Revenue']))\n",
    "shopping_data_clustering = shopping_data[col_list].copy()\n"
   ]
  },
  {
   "cell_type": "code",
   "execution_count": 6,
   "metadata": {},
   "outputs": [
    {
     "data": {
      "text/plain": [
       "<matplotlib.axes._subplots.AxesSubplot at 0x1cea6073710>"
      ]
     },
     "execution_count": 6,
     "metadata": {},
     "output_type": "execute_result"
    },
    {
     "data": {
      "image/png": "[encoded data removed]",
      "text/plain": [
       "<Figure size 432x288 with 1 Axes>"
      ]
     },
     "metadata": {
      "needs_background": "light"
     },
     "output_type": "display_data"
    }
   ],
   "source": [
    "# Plotting the dataset to identify the outliers\n",
    "\n",
    "sns.boxplot(data = shopping_data_clustering.iloc[:,[0,1,2,3]])\n",
    "# sns.boxplot(data = shopping_data_clustering.iloc[:,[4,5,6,7]])\n",
    "# sns.boxplot(data = shopping_data_clustering.iloc[:,[8,9,10,11]])\n",
    "# sns.boxplot(data = shopping_data_clustering.iloc[:,[12,13,14,15]])\n",
    "# sns.boxplot(data = shopping_data_clustering.iloc[:,[16]])\n",
    "\n",
    "# The columns which might have outliers are -\n",
    "# Administrative_Duration, ProductRelated_Duration, BounceRates, SpecialDay, PageValues, Informational_Duration\n"
   ]
  },
  {
   "cell_type": "code",
   "execution_count": 7,
   "metadata": {},
   "outputs": [],
   "source": [
    "# Outlier processing\n",
    "outlier_col = ['Administrative_Duration', 'ProductRelated_Duration', 'BounceRates', 'SpecialDay', 'PageValues', \\\n",
    "               'Informational_Duration']\n",
    "\n",
    "for i in range(len(outlier_col)):    \n",
    "    lv, uv = np.percentile(shopping_data_clustering[[outlier_col[i]]], [0,98])  \n",
    "    shopping_data_clustering[[outlier_col[i]]] = np.clip(shopping_data_clustering[[outlier_col[i]]], lv, uv)\n"
   ]
  },
  {
   "cell_type": "code",
   "execution_count": 8,
   "metadata": {},
   "outputs": [
    {
     "name": "stdout",
     "output_type": "stream",
     "text": [
      "\n"
     ]
    }
   ],
   "source": [
    "# Normalizing the features by MinMaxScaler. Didn't do feature scaling as it worsens the score\n",
    "\"\"\"\n",
    "scaler = StandardScaler()\n",
    "shopping_data_clustering = scaler.fit_transform(shopping_data_clustering)\n",
    "\n",
    "\"\"\"\n",
    "print(\"\")\n"
   ]
  },
  {
   "cell_type": "code",
   "execution_count": 9,
   "metadata": {},
   "outputs": [],
   "source": [
    "# K-means algorithm\n",
    "kmeans = KMeans(n_clusters = no_clusters, init = 'k-means++', n_jobs = -1)\n",
    "kmeans_prediction = kmeans.fit_predict(shopping_data_clustering)\n"
   ]
  },
  {
   "cell_type": "code",
   "execution_count": 10,
   "metadata": {},
   "outputs": [
    {
     "name": "stdout",
     "output_type": "stream",
     "text": [
      "[0 0 0 ... 0 0 0]\n",
      "{0, 1, 2, 3}\n"
     ]
    }
   ],
   "source": [
    "# Results from K-means algorithm\n",
    "print(kmeans_prediction)\n",
    "# print(kmeans.labels_) # Same as print(kmeans_prediction)\n",
    "print(set(kmeans.labels_))\n",
    "# print(kmeans.cluster_centers_)\n"
   ]
  },
  {
   "cell_type": "code",
   "execution_count": 11,
   "metadata": {},
   "outputs": [
    {
     "name": "stdout",
     "output_type": "stream",
     "text": [
      "Execution time (in seconds) to compute RI for k-means is: 173.86\n",
      "Rand index for K-means is: 0.516\n"
     ]
    }
   ],
   "source": [
    "# Evaluation metrics - Rand Index (K-means)\n",
    "\n",
    "km_ri_start = time.time()\n",
    "\n",
    "kmeans_predict_list = list(kmeans_prediction)\n",
    "revenue_list = list(shopping_data['Revenue'])\n",
    "\n",
    "s, d = (0,0)\n",
    "for i in range(len(kmeans_predict_list)):\n",
    "    for j in range(i+1, len(kmeans_predict_list)):\n",
    "        if ((kmeans_predict_list[i] == kmeans_predict_list[j]) & (revenue_list[i] == revenue_list[j])):\n",
    "            s += 1\n",
    "        elif ((kmeans_predict_list[i] != kmeans_predict_list[j]) & (revenue_list[i] != revenue_list[j])):\n",
    "            d += 1\n",
    "\n",
    "kmeans_ri = 2*(s+d)/(len(kmeans_predict_list)*(len(kmeans_predict_list) - 1))\n",
    "\n",
    "km_ri_end = time.time()\n",
    "\n",
    "print(\"Execution time (in seconds) to compute RI for k-means is:\", round(km_ri_end - km_ri_start, 2))\n",
    "print(\"Rand index for K-means is:\", round(kmeans_ri, 3))\n"
   ]
  },
  {
   "cell_type": "code",
   "execution_count": 12,
   "metadata": {},
   "outputs": [],
   "source": [
    "# Evaluation metrics - Davies-Bouldin Index (K-means), Steps involed in computing the Davies Bauldin Index are:\n",
    "# Step 1: Calculating centroid of each cluster (K-means)\n",
    "\n",
    "km_dbi_start = time.time()\n",
    "\n",
    "shopping_data_clustering['kmeans_prediction'] = pd.Series(kmeans_predict_list)\n",
    "kmeans_centroids = shopping_data_clustering.groupby(['kmeans_prediction']).mean()\n",
    "kmeans_centroids = kmeans_centroids.reset_index()\n"
   ]
  },
  {
   "cell_type": "code",
   "execution_count": 13,
   "metadata": {},
   "outputs": [],
   "source": [
    "# 2.) Calculating the avg(C) of a cluster, i.e. average distance b/w points in the cluster (K-means)\n",
    "kmeans_avg_C = np.zeros(no_clusters)\n",
    "\n",
    "for i in range(no_clusters):\n",
    "    temp_df = shopping_data_clustering[shopping_data_clustering['kmeans_prediction'] == i].iloc[:,:-1]\n",
    "    \n",
    "    if len(temp_df) > 1:\n",
    "        kmeans_avg_C[i] = round(np.sum(pairwise_distances(temp_df))/((len(temp_df))*(len(temp_df) - 1)), 2)\n",
    "    else:\n",
    "        kmeans_avg_C[i] = 0\n",
    "    \n",
    "# print(kmeans_avg_C)\n"
   ]
  },
  {
   "cell_type": "code",
   "execution_count": 14,
   "metadata": {},
   "outputs": [],
   "source": [
    "# Step 3: d_cen(mu_i,mu_j) i.e. distance between the centroids of 2 clusters (K-means).\n",
    "kmeans_d_cen = np.zeros((no_clusters, no_clusters))\n",
    "\n",
    "for i in range(no_clusters):\n",
    "    for j in range(i+1, no_clusters):\n",
    "        d = 0\n",
    "        for l in range(1, len(kmeans_centroids.columns)):\n",
    "            d += (kmeans_centroids.iloc[i,l] - kmeans_centroids.iloc[j,l])**2\n",
    "        kmeans_d_cen[i][j] = kmeans_d_cen[j][i] = round(d**0.5, 2)\n"
   ]
  },
  {
   "cell_type": "code",
   "execution_count": 15,
   "metadata": {},
   "outputs": [
    {
     "name": "stdout",
     "output_type": "stream",
     "text": [
      "Execution time (in seconds) to compute DBI for k-means is: 1.08\n",
      "DBI for K-means is: 0.722\n"
     ]
    }
   ],
   "source": [
    "# Step 4: Computing DBI Index for K-means\n",
    "kmeans_dbi = 0\n",
    "for i in range(no_clusters):\n",
    "    max_val = 0\n",
    "    for j in range(no_clusters):\n",
    "        if (i != j):\n",
    "            temp_val = (kmeans_avg_C[i] + kmeans_avg_C[j])/kmeans_d_cen[i][j]\n",
    "            if (max_val < temp_val):\n",
    "                max_val = temp_val\n",
    "            \n",
    "    kmeans_dbi += max_val\n",
    "\n",
    "kmeans_dbi = round(kmeans_dbi/no_clusters, 3)\n",
    "\n",
    "km_dbi_end = time.time()\n",
    "print(\"Execution time (in seconds) to compute DBI for k-means is:\", round(km_dbi_end - km_dbi_start, 2))\n",
    "\n",
    "print(\"DBI for K-means is:\", kmeans_dbi)\n"
   ]
  },
  {
   "cell_type": "code",
   "execution_count": 16,
   "metadata": {},
   "outputs": [],
   "source": [
    "# Dropping the engineered columns before starting new clustering\n",
    "shopping_data_clustering = shopping_data_clustering.drop(['kmeans_prediction'], axis = 1)\n"
   ]
  },
  {
   "cell_type": "code",
   "execution_count": 17,
   "metadata": {},
   "outputs": [],
   "source": [
    "# Agglomerative Clustering algorithm\n",
    "agg_cluster = AgglomerativeClustering(n_clusters = no_clusters, linkage = 'complete')\n",
    "agg_cluster_prediction = agg_cluster.fit_predict(shopping_data_clustering)\n"
   ]
  },
  {
   "cell_type": "code",
   "execution_count": 18,
   "metadata": {},
   "outputs": [
    {
     "name": "stdout",
     "output_type": "stream",
     "text": [
      "[2 2 2 ... 2 2 2]\n",
      "{0, 1, 2, 3}\n",
      "\n",
      "2    10185\n",
      "3      896\n",
      "1      675\n",
      "0      574\n",
      "dtype: int64\n"
     ]
    }
   ],
   "source": [
    "# Results from Agglomerative Clustering algorithm\n",
    "print(agg_cluster_prediction)\n",
    "# print(agg_cluster.labels_)\n",
    "print(set(agg_cluster.labels_))\n",
    "\n",
    "# Element value counts of each clusters\n",
    "print(\"\")\n",
    "print(pd.Series(agg_cluster_prediction).value_counts())\n"
   ]
  },
  {
   "cell_type": "code",
   "execution_count": 19,
   "metadata": {},
   "outputs": [
    {
     "name": "stdout",
     "output_type": "stream",
     "text": [
      "Execution time (in seconds) to compute RI for AGNEST is: 154.46\n",
      "Rand index for Agglomerative Clustering is: 0.633\n"
     ]
    }
   ],
   "source": [
    "# Evaluation metrics - Rand Index (Agglomerative Clustering)\n",
    "agnest_ri_start = time.time()\n",
    "\n",
    "agg_cluster_predict_list = list(agg_cluster_prediction)\n",
    "revenue_list = list(shopping_data['Revenue'])  # This list is already created once\n",
    "\n",
    "s, d = (0,0)\n",
    "for i in range(len(agg_cluster_predict_list)):\n",
    "    for j in range(i+1, len(agg_cluster_predict_list)):\n",
    "        if ((agg_cluster_predict_list[i] == agg_cluster_predict_list[j]) & (revenue_list[i] == revenue_list[j])):\n",
    "            s += 1\n",
    "        elif ((agg_cluster_predict_list[i] != agg_cluster_predict_list[j]) & (revenue_list[i] != revenue_list[j])):\n",
    "            d += 1\n",
    "\n",
    "AC_ri = 2*(s+d)/(len(agg_cluster_predict_list)*(len(agg_cluster_predict_list) - 1))\n",
    "AC_ri = round(AC_ri, 3)\n",
    "\n",
    "agnest_ri_end = time.time()\n",
    "print(\"Execution time (in seconds) to compute RI for AGNEST is:\", round(agnest_ri_end - agnest_ri_start, 2))\n",
    "\n",
    "print(\"Rand index for Agglomerative Clustering is:\", AC_ri)\n"
   ]
  },
  {
   "cell_type": "code",
   "execution_count": 20,
   "metadata": {},
   "outputs": [],
   "source": [
    "# Evaluation metrics - Davies-Bouldin Index (Agglomerative Clustering).\n",
    "# Steps involed in computing the Davies Bauldin Index are:\n",
    "# Step 1: Calculating centroid of each cluster (Agglomerative Clustering)\n",
    "agnest_dbi_start = time.time()\n",
    "\n",
    "shopping_data_clustering['ac_prediction'] = pd.Series(agg_cluster_predict_list)\n",
    "AC_centroids = shopping_data_clustering.groupby(['ac_prediction']).mean()\n",
    "AC_centroids = AC_centroids.reset_index()\n"
   ]
  },
  {
   "cell_type": "code",
   "execution_count": 21,
   "metadata": {},
   "outputs": [],
   "source": [
    "# 2.) Calculating the avg(C) of a cluster, i.e. average distance b/w points in the cluster (Agglomerative Clustering)\n",
    "AC_avg_C = np.zeros(no_clusters)\n",
    "\n",
    "for i in range(no_clusters):\n",
    "    temp_df = shopping_data_clustering[shopping_data_clustering['ac_prediction'] == i].iloc[:,:-1]\n",
    "    \n",
    "    if len(temp_df) > 1:\n",
    "        AC_avg_C[i] = round(np.sum(pairwise_distances(temp_df))/((len(temp_df))*(len(temp_df) - 1)), 2)\n",
    "    else:\n",
    "        AC_avg_C[i] = 0\n",
    "\n",
    "# print(AC_avg_C)\n"
   ]
  },
  {
   "cell_type": "code",
   "execution_count": 22,
   "metadata": {},
   "outputs": [],
   "source": [
    "# Step 3: d_cen(mu_i,mu_j) i.e. distance between the centroids of 2 clusters (Agglomerative Clustering).\n",
    "AC_d_cen = np.zeros((no_clusters, no_clusters))\n",
    "\n",
    "for i in range(no_clusters):\n",
    "    for j in range(i+1, no_clusters):\n",
    "        d = 0\n",
    "        for l in range(1, len(AC_centroids.columns)):\n",
    "            d += (AC_centroids.iloc[i,l] - AC_centroids.iloc[j,l])**2\n",
    "        AC_d_cen[i][j] = AC_d_cen[j][i] = d**0.5\n"
   ]
  },
  {
   "cell_type": "code",
   "execution_count": 23,
   "metadata": {},
   "outputs": [
    {
     "name": "stdout",
     "output_type": "stream",
     "text": [
      "Execution time (in seconds) to compute DBI for AGNEST is: 1.41\n",
      "DBI for Agglomerative Clustering is: 0.759\n"
     ]
    }
   ],
   "source": [
    "# Step 4: Finally computing DBI Index for Agglomerative Clustering\n",
    "AC_dbi = 0\n",
    "for i in range(no_clusters):\n",
    "    max_val = 0\n",
    "    for j in range(no_clusters):\n",
    "        if (i != j):\n",
    "            temp_val = (AC_avg_C[i] + AC_avg_C[j])/AC_d_cen[i][j]\n",
    "            if (max_val < temp_val):\n",
    "                max_val = temp_val\n",
    "            \n",
    "    AC_dbi += max_val\n",
    "\n",
    "AC_dbi = round(AC_dbi/no_clusters, 3)\n",
    "\n",
    "agnest_dbi_end = time.time()\n",
    "print(\"Execution time (in seconds) to compute DBI for AGNEST is:\", round(agnest_dbi_end - agnest_dbi_start, 2))\n",
    "\n",
    "print(\"DBI for Agglomerative Clustering is:\", AC_dbi)\n"
   ]
  },
  {
   "cell_type": "code",
   "execution_count": 24,
   "metadata": {},
   "outputs": [
    {
     "name": "stdout",
     "output_type": "stream",
     "text": [
      "Rand index for K-Means is: 0.516\n",
      "Rand index for Agglomerative Clustering is: 0.633\n",
      "Agglomerative Clustering is better than K-Means in RI metric\n",
      "\n",
      "---------------------------------------------------------------------------\n",
      "\n",
      "DBI for K-Means Clustering is: 0.722\n",
      "DBI for Agglomerative Clustering is: 0.759\n",
      "K_Means is better than Agglomerative Clustering in DBI metric\n"
     ]
    }
   ],
   "source": [
    "# Conclusions\n",
    "print(\"Rand index for K-Means is:\", round(kmeans_ri, 3))\n",
    "print(\"Rand index for Agglomerative Clustering is:\", AC_ri)\n",
    "\n",
    "if kmeans_ri > AC_ri:\n",
    "    print(\"K_Means is better than Agglomerative Clustering in RI metric\")\n",
    "elif kmeans_ri < AC_ri:\n",
    "    print(\"Agglomerative Clustering is better than K-Means in RI metric\")\n",
    "else:\n",
    "    print(\"RI metric for both Agglomerative Clustering and K-Means are same\")\n",
    "\n",
    "print()\n",
    "print('-'*75)\n",
    "print()\n",
    "\n",
    "print(\"DBI for K-Means Clustering is:\", kmeans_dbi)\n",
    "print(\"DBI for Agglomerative Clustering is:\", AC_dbi)\n",
    "\n",
    "if kmeans_dbi < AC_dbi:\n",
    "    print(\"K_Means is better than Agglomerative Clustering in DBI metric\")\n",
    "elif kmeans_dbi > AC_dbi:\n",
    "    print(\"Agglomerative Clustering is better than K-Means in DBI metric\")\n",
    "else:\n",
    "    print(\"DBI metric for both Agglomerative Clustering and K-Means are same\")\n"
   ]
  },
  {
   "cell_type": "code",
   "execution_count": null,
   "metadata": {},
   "outputs": [],
   "source": []
  }
 ],
 "metadata": {
  "kernelspec": {
   "display_name": "Python 3",
   "language": "python",
   "name": "python3"
  },
  "language_info": {
   "codemirror_mode": {
    "name": "ipython",
    "version": 3
   },
   "file_extension": ".py",
   "mimetype": "text/x-python",
   "name": "python",
   "nbconvert_exporter": "python",
   "pygments_lexer": "ipython3",
   "version": "3.7.1"
  }
 },
 "nbformat": 4,
 "nbformat_minor": 2
}
